{
 "cells": [
  {
   "cell_type": "markdown",
   "metadata": {
    "colab_type": "text",
    "id": "eaiad9bsntmD"
   },
   "source": [
    "## Q3) Outlier Detection\n",
    "Outlier detection (also known as '*anomaly detection*') is the process of finding observation points that are very distant from other observations. Such observation points are called outliers or anomalies. In this question,  you will employ simple visualization and statistical techniques to find the outliers and then, you will apply  outlier detection algorithms. \n",
    "\n",
    "You will be using the same **\"customer_segemntation\"** dataset that was used in the Q1. \n"
   ]
  },
  {
   "cell_type": "code",
   "execution_count": 4,
   "metadata": {
    "colab": {},
    "colab_type": "code",
    "id": "Q3vlwXnJoVrg"
   },
   "outputs": [],
   "source": [
    "import seaborn as sns\n",
    "import numpy as np\n",
    "import pandas as pd\n",
    "import matplotlib.pyplot as plt\n",
    "from scipy import stats\n",
    "from scipy.cluster.vq import kmeans\n",
    "from sklearn.neighbors import LocalOutlierFactor\n",
    "from sklearn.cluster import DBSCAN\n",
    "from matplotlib import cm"
   ]
  },
  {
   "cell_type": "code",
   "execution_count": 5,
   "metadata": {
    "colab": {},
    "colab_type": "code",
    "id": "E_CgA0HZo1dv"
   },
   "outputs": [
    {
     "name": "stdout",
     "output_type": "stream",
     "text": [
      "Number of datapoints: 850\n"
     ]
    },
    {
     "data": {
      "text/html": [
       "<div>\n",
       "<style scoped>\n",
       "    .dataframe tbody tr th:only-of-type {\n",
       "        vertical-align: middle;\n",
       "    }\n",
       "\n",
       "    .dataframe tbody tr th {\n",
       "        vertical-align: top;\n",
       "    }\n",
       "\n",
       "    .dataframe thead th {\n",
       "        text-align: right;\n",
       "    }\n",
       "</style>\n",
       "<table border=\"1\" class=\"dataframe\">\n",
       "  <thead>\n",
       "    <tr style=\"text-align: right;\">\n",
       "      <th></th>\n",
       "      <th>Customer Id</th>\n",
       "      <th>Age</th>\n",
       "      <th>Edu</th>\n",
       "      <th>Years Employed</th>\n",
       "      <th>Income</th>\n",
       "      <th>Card Debt</th>\n",
       "      <th>Other Debt</th>\n",
       "      <th>Defaulted</th>\n",
       "      <th>Address</th>\n",
       "      <th>DebtIncomeRatio</th>\n",
       "    </tr>\n",
       "  </thead>\n",
       "  <tbody>\n",
       "    <tr>\n",
       "      <td>0</td>\n",
       "      <td>1</td>\n",
       "      <td>41</td>\n",
       "      <td>2</td>\n",
       "      <td>6</td>\n",
       "      <td>19</td>\n",
       "      <td>0.124</td>\n",
       "      <td>1.073</td>\n",
       "      <td>0.0</td>\n",
       "      <td>NBA001</td>\n",
       "      <td>6.3</td>\n",
       "    </tr>\n",
       "    <tr>\n",
       "      <td>1</td>\n",
       "      <td>2</td>\n",
       "      <td>47</td>\n",
       "      <td>1</td>\n",
       "      <td>26</td>\n",
       "      <td>100</td>\n",
       "      <td>4.582</td>\n",
       "      <td>8.218</td>\n",
       "      <td>0.0</td>\n",
       "      <td>NBA021</td>\n",
       "      <td>12.8</td>\n",
       "    </tr>\n",
       "    <tr>\n",
       "      <td>2</td>\n",
       "      <td>3</td>\n",
       "      <td>33</td>\n",
       "      <td>2</td>\n",
       "      <td>10</td>\n",
       "      <td>57</td>\n",
       "      <td>6.111</td>\n",
       "      <td>5.802</td>\n",
       "      <td>1.0</td>\n",
       "      <td>NBA013</td>\n",
       "      <td>20.9</td>\n",
       "    </tr>\n",
       "    <tr>\n",
       "      <td>3</td>\n",
       "      <td>4</td>\n",
       "      <td>29</td>\n",
       "      <td>2</td>\n",
       "      <td>4</td>\n",
       "      <td>19</td>\n",
       "      <td>0.681</td>\n",
       "      <td>0.516</td>\n",
       "      <td>0.0</td>\n",
       "      <td>NBA009</td>\n",
       "      <td>6.3</td>\n",
       "    </tr>\n",
       "    <tr>\n",
       "      <td>4</td>\n",
       "      <td>5</td>\n",
       "      <td>47</td>\n",
       "      <td>1</td>\n",
       "      <td>31</td>\n",
       "      <td>253</td>\n",
       "      <td>9.308</td>\n",
       "      <td>8.908</td>\n",
       "      <td>0.0</td>\n",
       "      <td>NBA008</td>\n",
       "      <td>7.2</td>\n",
       "    </tr>\n",
       "  </tbody>\n",
       "</table>\n",
       "</div>"
      ],
      "text/plain": [
       "   Customer Id  Age  Edu  Years Employed  Income  Card Debt  Other Debt  \\\n",
       "0            1   41    2               6      19      0.124       1.073   \n",
       "1            2   47    1              26     100      4.582       8.218   \n",
       "2            3   33    2              10      57      6.111       5.802   \n",
       "3            4   29    2               4      19      0.681       0.516   \n",
       "4            5   47    1              31     253      9.308       8.908   \n",
       "\n",
       "   Defaulted Address  DebtIncomeRatio  \n",
       "0        0.0  NBA001              6.3  \n",
       "1        0.0  NBA021             12.8  \n",
       "2        1.0  NBA013             20.9  \n",
       "3        0.0  NBA009              6.3  \n",
       "4        0.0  NBA008              7.2  "
      ]
     },
     "execution_count": 5,
     "metadata": {},
     "output_type": "execute_result"
    }
   ],
   "source": [
    "#loading the dataset\n",
    "cust_df = pd.read_csv(\"customer_segmentation.csv\")\n",
    "print('Number of datapoints: {}'.format(cust_df.shape[0]))\n",
    "cust_df.head()"
   ]
  },
  {
   "cell_type": "code",
   "execution_count": 6,
   "metadata": {
    "colab": {},
    "colab_type": "code",
    "id": "XOAg1gItr1h0"
   },
   "outputs": [],
   "source": [
    "cust = cust_df.copy()\n",
    "cust = cust.dropna()"
   ]
  },
  {
   "cell_type": "markdown",
   "metadata": {
    "colab_type": "text",
    "id": "0W4VX5MNeg9q"
   },
   "source": [
    "### **Box-Plots**"
   ]
  },
  {
   "cell_type": "markdown",
   "metadata": {
    "colab_type": "text",
    "id": "Mz79KJOEvMjg"
   },
   "source": [
    "Plot box-plots for \"**Income**\" and \"**Card Debt**\" attributes and comment on the results. "
   ]
  },
  {
   "cell_type": "code",
   "execution_count": 7,
   "metadata": {
    "colab": {},
    "colab_type": "code",
    "id": "r8aPhJwdrC1U"
   },
   "outputs": [
    {
     "data": {
      "image/png": "[encoded data removed]",
      "text/plain": [
       "<Figure size 432x288 with 1 Axes>"
      ]
     },
     "metadata": {
      "needs_background": "light"
     },
     "output_type": "display_data"
    }
   ],
   "source": [
    "#Write code here\n",
    "\n",
    "boxplot1 = cust.boxplot(column=['Income'])"
   ]
  },
  {
   "cell_type": "code",
   "execution_count": 8,
   "metadata": {},
   "outputs": [
    {
     "data": {
      "image/png": "[encoded data removed]",
      "text/plain": [
       "<Figure size 432x288 with 1 Axes>"
      ]
     },
     "metadata": {
      "needs_background": "light"
     },
     "output_type": "display_data"
    }
   ],
   "source": [
    "boxplot2 = cust.boxplot(column=['Card Debt'])"
   ]
  },
  {
   "cell_type": "markdown",
   "metadata": {},
   "source": [
    "`Income`: Q1 is very close to minimum, and median is also closer to Q1. There is a large gap between Q3 and maximum. A number of outliers can also been seen.   \n",
    "`Card Debt`: Similar to `Income`, Q1 is very close to minimum, and median is also closer to Q1. There is a large gap between Q3 and maximum. A number of outliers can also been seen."
   ]
  },
  {
   "cell_type": "markdown",
   "metadata": {
    "colab_type": "text",
    "id": "9bO5J9CXJTnD"
   },
   "source": [
    "### **Scatter-plot**"
   ]
  },
  {
   "cell_type": "markdown",
   "metadata": {
    "colab_type": "text",
    "id": "gX96KifMxHve"
   },
   "source": [
    "Plot scatter-plot for **Income Vs DebtIncomeRatio**. Comment if it shows any outliers. Use matplotlib.pyplot library for scatter-plot."
   ]
  },
  {
   "cell_type": "code",
   "execution_count": 9,
   "metadata": {
    "colab": {},
    "colab_type": "code",
    "id": "yhP4eH0yyG6Y"
   },
   "outputs": [
    {
     "data": {
      "image/png": "[encoded data removed]",
      "text/plain": [
       "<Figure size 432x288 with 1 Axes>"
      ]
     },
     "metadata": {
      "needs_background": "light"
     },
     "output_type": "display_data"
    }
   ],
   "source": [
    "#Write code here\n",
    "\n",
    "ax = cust.plot.scatter(x='Income', y='DebtIncomeRatio')"
   ]
  },
  {
   "cell_type": "markdown",
   "metadata": {},
   "source": [
    "There is a very evident outlier (400+ `Income`) and another one (40+ `DebtIncomeRatio`). Other than that, some values between 200 to 300 `Income` may also be considered outliers."
   ]
  },
  {
   "cell_type": "markdown",
   "metadata": {
    "colab_type": "text",
    "id": "A4yCJZQjJatJ"
   },
   "source": [
    "### **Z_score**"
   ]
  },
  {
   "cell_type": "markdown",
   "metadata": {
    "colab_type": "text",
    "id": "crJ1LyvTynP3"
   },
   "source": [
    "Z-score tells how many standard deviations is a certain data point away from the mean. For **Age,Other_Debt and DebtIncomeRatio**, output the list of values that are identified as outliers on the basis of their z-scores."
   ]
  },
  {
   "cell_type": "code",
   "execution_count": 10,
   "metadata": {
    "colab": {},
    "colab_type": "code",
    "id": "ie5KpqAU0Dfe"
   },
   "outputs": [
    {
     "name": "stdout",
     "output_type": "stream",
     "text": [
      "Outliers for Age\n",
      "Empty DataFrame\n",
      "Columns: [Customer Id, Age, Edu, Years Employed, Income, Card Debt, Other Debt, Defaulted, Address, DebtIncomeRatio]\n",
      "Index: []\n",
      "\n",
      "Outliers for Other Debt\n",
      "     Customer Id  Age  Edu  Years Employed  Income  Card Debt  Other Debt  Defaulted Address  DebtIncomeRatio\n",
      "24            25   37    4              10     123      3.022      18.257        0.0  NBA018             17.3\n",
      "78            79   41    2              21     145      3.237      14.453        0.0  NBA022             12.2\n",
      "81            82   30    3               0      65      3.900      15.405        1.0  NBA008             29.7\n",
      "198          199   47    3              16     221     15.792      23.104        1.0  NBA026             17.6\n",
      "320          321   41    3              13      91      2.316      20.616        1.0  NBA013             25.2\n",
      "350          351   47    1              31     136     14.231      17.185        1.0  NBA009             23.1\n",
      "356          357   40    2              13     102      6.227      13.051        1.0  NBA011             18.9\n",
      "443          444   51    2              31     249      4.273      15.149        0.0  NBA014              7.8\n",
      "450          451   41    3              12      86      4.991      17.799        1.0  NBA011             26.5\n",
      "454          455   51    2              27     166      0.821      18.269        0.0  NBA021             11.5\n",
      "497          498   33    1              14      72     15.017      14.719        1.0  NBA008             41.3\n",
      "513          514   54    1              25     120     14.596      17.204        1.0  NBA012             26.5\n",
      "532          533   43    4              18     446     16.031      12.959        1.0  NBA014              6.5\n",
      "568          569   39    1              20      67      3.834      16.668        0.0  NBA009             30.6\n",
      "571          572   40    3               5     220      8.166      27.034        1.0  NBA003             16.0\n",
      "\n",
      "Outliers for DebtIncomeRatio\n",
      "     Customer Id  Age  Edu  Years Employed  Income  Card Debt  Other Debt  Defaulted Address  DebtIncomeRatio\n",
      "51            52   36    1              11      33      1.266       9.459        0.0  NBA002             32.5\n",
      "497          498   33    1              14      72     15.017      14.719        1.0  NBA008             41.3\n",
      "585          586   34    4               6      27      1.982       7.549        1.0  NBA003             35.3\n",
      "594          595   28    1               0      28      2.284       7.040        1.0  NBA002             33.3\n",
      "657          658   37    3              16      50      7.320      10.980        1.0  NBA014             36.6\n",
      "826          827   48    1              13      50      6.114       9.286        1.0  NBA020             30.8\n",
      "847          848   25    4               0      18      2.802       3.210        1.0  NBA001             33.4\n",
      "\n",
      "Total outliers for DebtIncomeRatio using z-score method: 22\n"
     ]
    }
   ],
   "source": [
    "from scipy.stats import zscore\n",
    "#Write code here\n",
    "\n",
    "pd.set_option('expand_frame_repr', False) # Force DF rows to be printed in a single line\n",
    "cols = ['Age', 'Other Debt', 'DebtIncomeRatio']\n",
    "threshold = 3\n",
    "\n",
    "count = 0\n",
    "for col in cols:\n",
    "    print('Outliers for {}'.format(col))\n",
    "    z = np.abs(zscore(cust[col]))\n",
    "    z = np.where(z > threshold)\n",
    "    for ind in z:\n",
    "        print(cust.iloc[ind])\n",
    "        count = count + len(z[0])\n",
    "    print()\n",
    "print('Total outliers for {} using z-score method: {}'.format(col, count))"
   ]
  },
  {
   "cell_type": "markdown",
   "metadata": {
    "colab_type": "text",
    "id": "xCP3luCKmgZg"
   },
   "source": [
    "* **What z-score threshold did you use to detect the outliers and why?**   \n",
    "I used 3 as z-score threshold because for normal distrubutions almost 99.7% of the values are between the mean and 3 standard deviations. So I'm considering 0.3% of the values to be outliers."
   ]
  },
  {
   "cell_type": "markdown",
   "metadata": {
    "colab_type": "text",
    "id": "HqkWK081Jrwe"
   },
   "source": [
    "### ***IQR***"
   ]
  },
  {
   "cell_type": "markdown",
   "metadata": {
    "colab_type": "text",
    "id": "LIRiVGL80t1d"
   },
   "source": [
    "For **Age,Other_Debt and DebtIncomeRatio**, output the list of values that are identified as outliers on the basis of their IQR values."
   ]
  },
  {
   "cell_type": "markdown",
   "metadata": {
    "colab_type": "text",
    "id": "ygYxJtRoHHAp"
   },
   "source": [
    "For this, calculate the first (q1) and third quartile (q3). An outlier is then a data point  that lies outside the interquartile range. That is:\n",
    "*   *Lower outlier= Q1 - (k x IQR)*\n",
    "*   *Higher outlier= Q3 + (k x IQR)*\n",
    "\n",
    "Choose an appropriate 'k' for this part."
   ]
  },
  {
   "cell_type": "code",
   "execution_count": 11,
   "metadata": {
    "colab": {},
    "colab_type": "code",
    "id": "tHF2m8HAtbaP"
   },
   "outputs": [
    {
     "name": "stdout",
     "output_type": "stream",
     "text": [
      "Outliers for Age\n",
      "Empty DataFrame\n",
      "Columns: [Customer Id, Age, Edu, Years Employed, Income, Card Debt, Other Debt, Defaulted, Address, DebtIncomeRatio]\n",
      "Index: []\n",
      "\n",
      "Outliers for Other Debt\n",
      "     Customer Id  Age  Edu  Years Employed  Income  Card Debt  Other Debt  Defaulted Address  DebtIncomeRatio\n",
      "4              5   47    1              31     253      9.308       8.908        0.0  NBA008              7.2\n",
      "24            25   37    4              10     123      3.022      18.257        0.0  NBA018             17.3\n",
      "41            42   48    3              17     113      3.376      10.184        0.0  NBA026             12.0\n",
      "43            44   37    5               9     177      0.888       9.555        0.0  NBA016              5.9\n",
      "51            52   36    1              11      33      1.266       9.459        0.0  NBA002             32.5\n",
      "54            55   29    3               5      70      3.176      10.754        1.0  NBA006             19.9\n",
      "78            79   41    2              21     145      3.237      14.453        0.0  NBA022             12.2\n",
      "81            82   30    3               0      65      3.900      15.405        1.0  NBA008             29.7\n",
      "105          106   47    1              19      50      3.176      11.874        0.0  NBA007             30.1\n",
      "144          145   34    1              12      68      7.817       9.251        1.0  NBA005             25.1\n",
      "183          184   47    1              29     129     20.561      12.076        1.0  NBA018             25.3\n",
      "198          199   47    3              16     221     15.792      23.104        1.0  NBA026             17.6\n",
      "226          227   50    3              18     102      5.782       8.600        0.0  NBA027             14.1\n",
      "238          239   32    3               9      51      2.686       9.044        0.0  NBA010             23.0\n",
      "264          265   43    1              25      64      0.951       9.737        0.0  NBA021             16.7\n",
      "299          300   41    1              23      91      0.573      11.894        0.0  NBA002             13.7\n",
      "320          321   41    3              13      91      2.316      20.616        1.0  NBA013             25.2\n",
      "331          332   44    2              21     113      3.192      11.724        0.0  NBA014             13.2\n",
      "344          345   39    1              23      75      3.133      11.042        0.0  NBA001             18.9\n",
      "350          351   47    1              31     136     14.231      17.185        1.0  NBA009             23.1\n",
      "356          357   40    2              13     102      6.227      13.051        1.0  NBA011             18.9\n",
      "384          385   46    2              22     144      3.325      12.659        0.0  NBA017             11.1\n",
      "393          394   31    1               7      41      2.996       9.591        1.0  NBA011             30.7\n",
      "418          419   42    1              12      51      2.412       8.502        0.0  NBA011             21.4\n",
      "443          444   51    2              31     249      4.273      15.149        0.0  NBA014              7.8\n",
      "450          451   41    3              12      86      4.991      17.799        1.0  NBA011             26.5\n",
      "454          455   51    2              27     166      0.821      18.269        0.0  NBA021             11.5\n",
      "470          471   45    1              22      91      1.256       9.391        0.0  NBA024             11.7\n",
      "491          492   40    1              12      89      2.772      12.714        0.0  NBA006             17.4\n",
      "497          498   33    1              14      72     15.017      14.719        1.0  NBA008             41.3\n",
      "513          514   54    1              25     120     14.596      17.204        1.0  NBA012             26.5\n",
      "532          533   43    4              18     446     16.031      12.959        1.0  NBA014              6.5\n",
      "550          551   47    1              13      51      3.739       8.399        0.0  NBA025             23.8\n",
      "568          569   39    1              20      67      3.834      16.668        0.0  NBA009             30.6\n",
      "571          572   40    3               5     220      8.166      27.034        1.0  NBA003             16.0\n",
      "591          592   44    2              12      86      1.476       9.704        0.0  NBA005             13.0\n",
      "603          604   32    2              11      75      7.759       9.716        1.0  NBA006             23.3\n",
      "605          606   39    1              16      57      1.559       9.499        0.0  NBA020             19.4\n",
      "642          643   42    5               6     190      3.157      11.663        0.0  NBA023              7.8\n",
      "652          653   40    3              16     116      1.614      12.422        0.0  NBA006             12.1\n",
      "657          658   37    3              16      50      7.320      10.980        1.0  NBA014             36.6\n",
      "672          673   52    4              13     234      7.387      10.631        0.0  NBA017              7.7\n",
      "696          697   29    2               6      65      1.985       9.975        0.0  NBA010             18.4\n",
      "712          713   30    2              12      68      2.857      10.811        0.0  NBA009             20.1\n",
      "760          761   40    1              22     100      5.402       9.198        0.0  NBA001             14.6\n",
      "784          785   41    1              21      76      6.949       8.631        0.0  NBA002             20.5\n",
      "826          827   48    1              13      50      6.114       9.286        1.0  NBA020             30.8\n",
      "830          831   33    1              13      52      2.714       8.362        1.0  NBA003             21.3\n",
      "\n",
      "Outliers for DebtIncomeRatio\n",
      "     Customer Id  Age  Edu  Years Employed  Income  Card Debt  Other Debt  Defaulted Address  DebtIncomeRatio\n",
      "51            52   36    1              11      33      1.266       9.459        0.0  NBA002             32.5\n",
      "81            82   30    3               0      65      3.900      15.405        1.0  NBA008             29.7\n",
      "105          106   47    1              19      50      3.176      11.874        0.0  NBA007             30.1\n",
      "175          176   53    1               0      27      2.754       5.049        1.0  NBA026             28.9\n",
      "374          375   32    1               4      16      0.894       3.666        1.0  NBA003             28.5\n",
      "393          394   31    1               7      41      2.996       9.591        1.0  NBA011             30.7\n",
      "479          480   24    1               3      21      2.682       3.387        1.0  NBA003             28.9\n",
      "497          498   33    1              14      72     15.017      14.719        1.0  NBA008             41.3\n",
      "568          569   39    1              20      67      3.834      16.668        0.0  NBA009             30.6\n",
      "585          586   34    4               6      27      1.982       7.549        1.0  NBA003             35.3\n",
      "594          595   28    1               0      28      2.284       7.040        1.0  NBA002             33.3\n",
      "657          658   37    3              16      50      7.320      10.980        1.0  NBA014             36.6\n",
      "826          827   48    1              13      50      6.114       9.286        1.0  NBA020             30.8\n",
      "847          848   25    4               0      18      2.802       3.210        1.0  NBA001             33.4\n",
      "\n",
      "Total outliers for DebtIncomeRatio using IQR method: 62\n"
     ]
    }
   ],
   "source": [
    "#Write code here\n",
    "def outlier_treatment(datacolumn):\n",
    "    sorted(datacolumn)\n",
    "    k = 1.5\n",
    "    Q1, Q3 = np.percentile(datacolumn , [25,75])\n",
    "    IQR = Q3 - Q1\n",
    "    lower_range = Q1 - (k * IQR)\n",
    "    upper_range = Q3 + (k * IQR)\n",
    "    return lower_range, upper_range\n",
    "\n",
    "count = 0\n",
    "for col in cols:\n",
    "    print('Outliers for {}'.format(col))\n",
    "    l_r, u_r = outlier_treatment(cust[col])\n",
    "    temp = cust[(cust[col] < l_r) | (cust[col] > u_r)]\n",
    "    count = count + temp.shape[0]\n",
    "    print(temp)\n",
    "    print()\n",
    "print('Total outliers for {} using IQR method: {}'.format(col, count))"
   ]
  },
  {
   "cell_type": "markdown",
   "metadata": {
    "colab_type": "text",
    "id": "jTAVLNH7mjhS"
   },
   "source": [
    "* **What k-value did you use to detect the outliers and why?**   \n",
    "I took 1.5 as k-value because in Gaussian distributions, about 99.72% of the whole data lies within three standard deviations of the mean. So by halving 3, we get 1.5\n",
    "\n",
    "Refernce: https://medium.com/mytake/why-1-5-in-iqr-method-of-outlier-detection-5d07fdc82097"
   ]
  },
  {
   "cell_type": "markdown",
   "metadata": {
    "colab_type": "text",
    "id": "DbEczKcvmtyJ"
   },
   "source": [
    "* **Which parameter (IQR or Z-score) is better outlier detection? Give reason.**   \n",
    "No method can objectively identify what is an outlier and what is not. These method can only show us that what datapoints may be suspected outliers, but it is up to us to decide whether to classify a datapoint as a outlier or not.   \n",
    "We have total 850 datapoints, and as shown above both z-score and IQR try to interpret 0.03% or fewer data as outlier. z-score gave us total 22 outliers, whereas IQR classified 62 points as outliers.    \n",
    "By visualizing the data, and by the assumption that 0.03% is outlier, z-score is better a metric for outlier detection for this dataset. "
   ]
  },
  {
   "cell_type": "markdown",
   "metadata": {
    "colab_type": "text",
    "id": "7xOHd8wbakME"
   },
   "source": [
    "### **Outlier Detection using LOC (Local Outlier Factor)**"
   ]
  },
  {
   "cell_type": "markdown",
   "metadata": {
    "colab_type": "text",
    "id": "QHnyjQFfaz_g"
   },
   "source": [
    "LOF uses density-based outlier detection to identify local outliers. An anomaly score is assigned to each sample which measures the local deviation of density of a this sample with respect to its neighbors. \n"
   ]
  },
  {
   "cell_type": "markdown",
   "metadata": {
    "colab_type": "text",
    "id": "evwRFDLSf9g2"
   },
   "source": [
    "**1.** Tranform the features by scaling them to a \n",
    "given range(e.g. 0-1):"
   ]
  },
  {
   "cell_type": "code",
   "execution_count": 12,
   "metadata": {
    "colab": {},
    "colab_type": "code",
    "id": "YHiU8lzOKtZ7"
   },
   "outputs": [],
   "source": [
    "from sklearn.preprocessing import MinMaxScaler\n",
    "#Write your code here\n",
    "\n",
    "reduced_dataset = cust[[\"Income\", \"Other Debt\"]]\n",
    "scaled_data = MinMaxScaler().fit_transform(reduced_dataset)"
   ]
  },
  {
   "cell_type": "markdown",
   "metadata": {
    "colab_type": "text",
    "id": "MeMWZNKxsNKb"
   },
   "source": [
    "**2.** Implement LOC algorithm using sklearn. Choose the parameters that will be passed into the function:"
   ]
  },
  {
   "cell_type": "code",
   "execution_count": 13,
   "metadata": {
    "colab": {},
    "colab_type": "code",
    "id": "BQNW1MRe5tdq"
   },
   "outputs": [
    {
     "name": "stdout",
     "output_type": "stream",
     "text": [
      "Number of outliers: 28\n"
     ]
    }
   ],
   "source": [
    "#Write your code here   \n",
    "\n",
    "from sklearn.neighbors import LocalOutlierFactor\n",
    "\n",
    "clf = LocalOutlierFactor(n_neighbors=25, contamination='auto')\n",
    "y_pred_final = clf.fit_predict(scaled_data)\n",
    "count = 0\n",
    "for v in y_pred_final:\n",
    "    if v == -1:\n",
    "        count = count + 1\n",
    "print(\"Number of outliers: {}\".format(count))"
   ]
  },
  {
   "cell_type": "markdown",
   "metadata": {
    "colab_type": "text",
    "id": "rLQ5JB3rtsLq"
   },
   "source": [
    "Run LOC algorithm multiple times with different values for the '**n_neighbors** 'paramater. "
   ]
  },
  {
   "cell_type": "code",
   "execution_count": 14,
   "metadata": {
    "colab": {},
    "colab_type": "code",
    "id": "G0RxfpmBuFkU"
   },
   "outputs": [
    {
     "name": "stdout",
     "output_type": "stream",
     "text": [
      "Number of outliers: 11 with n_neighbours=5\n",
      "Number of outliers: 28 with n_neighbours=25\n",
      "Number of outliers: 43 with n_neighbours=45\n",
      "Number of outliers: 53 with n_neighbours=65\n",
      "Number of outliers: 64 with n_neighbours=85\n",
      "Number of outliers: 73 with n_neighbours=105\n",
      "Number of outliers: 82 with n_neighbours=125\n",
      "Number of outliers: 93 with n_neighbours=145\n",
      "Number of outliers: 99 with n_neighbours=165\n",
      "Number of outliers: 112 with n_neighbours=185\n",
      "Number of outliers: 120 with n_neighbours=205\n",
      "Number of outliers: 134 with n_neighbours=225\n",
      "Number of outliers: 149 with n_neighbours=245\n",
      "Number of outliers: 161 with n_neighbours=265\n",
      "Number of outliers: 166 with n_neighbours=285\n",
      "Number of outliers: 169 with n_neighbours=305\n",
      "Number of outliers: 167 with n_neighbours=325\n",
      "Number of outliers: 166 with n_neighbours=345\n",
      "Number of outliers: 156 with n_neighbours=365\n",
      "Number of outliers: 148 with n_neighbours=385\n",
      "Number of outliers: 138 with n_neighbours=405\n",
      "Number of outliers: 133 with n_neighbours=425\n",
      "Number of outliers: 119 with n_neighbours=445\n",
      "Number of outliers: 106 with n_neighbours=465\n",
      "Number of outliers: 98 with n_neighbours=485\n",
      "Number of outliers: 92 with n_neighbours=505\n",
      "Number of outliers: 79 with n_neighbours=525\n",
      "Number of outliers: 67 with n_neighbours=545\n",
      "Number of outliers: 56 with n_neighbours=565\n",
      "Number of outliers: 52 with n_neighbours=585\n",
      "Number of outliers: 36 with n_neighbours=605\n",
      "Number of outliers: 28 with n_neighbours=625\n",
      "Number of outliers: 23 with n_neighbours=645\n",
      "Number of outliers: 14 with n_neighbours=665\n",
      "Number of outliers: 3 with n_neighbours=685\n"
     ]
    }
   ],
   "source": [
    "for i in range(5, len(reduced_dataset), 20):\n",
    "    count = 0\n",
    "    clf = LocalOutlierFactor(n_neighbors=i, contamination='auto')\n",
    "    y_pred = clf.fit_predict(scaled_data)\n",
    "    for v in y_pred:\n",
    "        if v == -1:\n",
    "            count = count + 1\n",
    "    print(\"Number of outliers: {} with n_neighbours={}\".format(count, i))"
   ]
  },
  {
   "cell_type": "markdown",
   "metadata": {
    "colab_type": "text",
    "id": "LFa-qAleuGPJ"
   },
   "source": [
    "* **How did the results of LOC alogrithm vary by changing the value of 'n_neighbors'? What parameter value you ended up choosing and why?**"
   ]
  },
  {
   "cell_type": "markdown",
   "metadata": {},
   "source": [
    "I started with 5 neigbours and ended with 685 neighbours. For each iteration, I incremented neigbours by 20. It can be seen that outliers with neighbours in the first half, peak at `neighbours=305` and then start decreasing.   \n",
    "Assuming that zscore gave us a fair number of outliers in the previous sections, `neigbours=25` is a good parameter for this dataset because it produces comparable results to our zscore method."
   ]
  },
  {
   "cell_type": "markdown",
   "metadata": {
    "colab_type": "text",
    "id": "ojEOSRUOh1YM"
   },
   "source": [
    "**3.** Visualize the results using this function. You may also implement your own visualization function."
   ]
  },
  {
   "cell_type": "code",
   "execution_count": 15,
   "metadata": {
    "colab": {},
    "colab_type": "code",
    "id": "c2MZICNChvJm"
   },
   "outputs": [
    {
     "data": {
      "image/png": "[encoded data removed]",
      "text/plain": [
       "<Figure size 1080x1080 with 1 Axes>"
      ]
     },
     "metadata": {
      "needs_background": "light"
     },
     "output_type": "display_data"
    }
   ],
   "source": [
    "fig = plt.figure(figsize=(15,15))\n",
    "def plot_model(labels, alg_name, X):\n",
    "    ax = fig.add_subplot(3,2,1) \n",
    "    color_code = {'anomaly':'red', 'normal':'green'}\n",
    "    color_code={-1:'red', 1:'green'}\n",
    "    colors = [color_code[x] for x in labels]\n",
    "\n",
    "    ax.scatter(X.iloc[:,0], X.iloc[:,1], color=colors, marker='.', label='red = anomaly')\n",
    "    ax.legend(loc=\"lower right\")\n",
    "\n",
    "    leg = plt.gca().get_legend()\n",
    "    leg.legendHandles[0].set_color('red')\n",
    "\n",
    "    ax.set_title(alg_name)\n",
    "\n",
    "plot_model(y_pred_final, 'LocalOutlierFactor', reduced_dataset)"
   ]
  },
  {
   "cell_type": "markdown",
   "metadata": {
    "colab_type": "text",
    "id": "PqiOZMUFOBfX"
   },
   "source": [
    "### **Isolation Forest**"
   ]
  },
  {
   "cell_type": "markdown",
   "metadata": {
    "colab_type": "text",
    "id": "dPcU1luqi2wj"
   },
   "source": [
    "Isolation Forest is an outlier detection algoritm that is based on the Decision Trees. It spearates the outliers by randomly selecting a certain attribute and then randomly selecting a split value between the max and min values of this feature."
   ]
  },
  {
   "cell_type": "markdown",
   "metadata": {
    "colab_type": "text",
    "id": "wQS5ooU3jyqx"
   },
   "source": [
    "**1.** Implement Isolation Forest algorithm using sklearn. Choose the parameters that will be passed into the function:"
   ]
  },
  {
   "cell_type": "code",
   "execution_count": 16,
   "metadata": {
    "colab": {},
    "colab_type": "code",
    "id": "JKh-LfcPjw9b"
   },
   "outputs": [
    {
     "name": "stdout",
     "output_type": "stream",
     "text": [
      "Number of outlier: 70\n"
     ]
    }
   ],
   "source": [
    "#Write your code here\n",
    "\n",
    "from sklearn.ensemble import IsolationForest\n",
    "\n",
    "clf = IsolationForest(max_samples=700, contamination='auto', behaviour='new')\n",
    "y_pred  = clf.fit_predict(scaled_data)\n",
    "count = 0\n",
    "for v in y_pred:\n",
    "    if v == -1:\n",
    "        count = count + 1\n",
    "print('Number of outlier: {}'.format(count))"
   ]
  },
  {
   "cell_type": "markdown",
   "metadata": {
    "colab_type": "text",
    "id": "46NBSUmAvixi"
   },
   "source": [
    "* **What value did you use for the 'max_samples'?**"
   ]
  },
  {
   "cell_type": "markdown",
   "metadata": {},
   "source": [
    "As number of max_samples increase, the number of outliers decrease. I used `max_samples=700` because after visualizing the results, it felt the most appropriate. The closer points were being considered inliers, whereas faraway points were being conisdered outliers."
   ]
  },
  {
   "cell_type": "markdown",
   "metadata": {
    "colab_type": "text",
    "id": "pnLdNLFvj-x8"
   },
   "source": [
    "**2.** Visualize the results using this function. You may also implement your own visualization function."
   ]
  },
  {
   "cell_type": "code",
   "execution_count": 17,
   "metadata": {
    "colab": {},
    "colab_type": "code",
    "id": "3f5juLAyouRW"
   },
   "outputs": [
    {
     "data": {
      "image/png": "[encoded data removed]",
      "text/plain": [
       "<Figure size 1080x1080 with 1 Axes>"
      ]
     },
     "metadata": {
      "needs_background": "light"
     },
     "output_type": "display_data"
    }
   ],
   "source": [
    "fig = plt.figure(figsize=(15,15))\n",
    "plot_model(y_pred, 'Isolation Forest', reduced_dataset)"
   ]
  },
  {
   "cell_type": "markdown",
   "metadata": {
    "colab_type": "text",
    "id": "d9T0rfA3tKTD"
   },
   "source": [
    "* **Compare the results from both LOC and Isolation Forest:** \n",
    "\n"
   ]
  },
  {
   "cell_type": "markdown",
   "metadata": {
    "colab_type": "text",
    "id": "QpwHtN7iu6gN"
   },
   "source": [
    "*Comparison:*   \n",
    "It looks like LOF is better in indentifying outliers because there as no red dots near the cluster, but in the case of Isolation Forest, there are red dots very close to the cluster.  \n",
    "Moreover, since Isolation Forest uses some randomized parameters, the number of outliers produced is different every time the algorithm is run."
   ]
  },
  {
   "cell_type": "code",
   "execution_count": null,
   "metadata": {},
   "outputs": [],
   "source": []
  }
 ],
 "metadata": {
  "colab": {
   "collapsed_sections": [],
   "name": "Outlier_detection_question.ipynb",
   "provenance": []
  },
  "kernelspec": {
   "display_name": "Python 3",
   "language": "python",
   "name": "python3"
  },
  "language_info": {
   "codemirror_mode": {
    "name": "ipython",
    "version": 3
   },
   "file_extension": ".py",
   "mimetype": "text/x-python",
   "name": "python",
   "nbconvert_exporter": "python",
   "pygments_lexer": "ipython3",
   "version": "3.7.4"
  }
 },
 "nbformat": 4,
 "nbformat_minor": 1
}
