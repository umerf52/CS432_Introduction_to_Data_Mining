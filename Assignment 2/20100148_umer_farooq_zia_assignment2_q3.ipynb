{
 "cells": [
  {
   "cell_type": "markdown",
   "metadata": {},
   "source": [
    "# Question 3\n",
    "\n",
    "1. In this part, you are required to implement Apriori and FPgrowth algorithms on the data provided as \"data_apriori_fpgrowth/data.csv\". The dataset is of online directory of certified businesses.\n",
    "\n",
    "2. We have loaded the dataset for you.\n",
    "\n",
    "3. You are free to use any library or implement your own algorithms.\n",
    "\n",
    "\n",
    "**Use minimum support : 0.1**"
   ]
  },
  {
   "cell_type": "code",
   "execution_count": 1,
   "metadata": {},
   "outputs": [],
   "source": [
    "import pandas as pd\n",
    "import numpy as np\n",
    "\n",
    "from mlxtend.preprocessing import TransactionEncoder\n",
    "from mlxtend.frequent_patterns import apriori\n",
    "import time\n",
    "from mlxtend.frequent_patterns import fpgrowth"
   ]
  },
  {
   "cell_type": "code",
   "execution_count": 2,
   "metadata": {},
   "outputs": [],
   "source": [
    "data = np.load(\"data_apriori_fpgrowth/data.npy\", allow_pickle = True)"
   ]
  },
  {
   "cell_type": "markdown",
   "metadata": {},
   "source": [
    "# To Do\n",
    "1. Run Apriori Algorithm on the dataset using minimum support 0.1.\n",
    " 1. Note the run time of the algorithm to find frequent item sets.\n",
    " 1. Print all the frequent item sets found by apriori.\n",
    " 1. Print all frequent item sets of length $2$ or higher with support of $0.2$ or higher. \n",
    "1. Run FPGrowth Algorithm on the dataset using minimum support 0.1.\n",
    " 1. Note the run time of the FPGrowth algorithm to find frequent item sets.\n",
    " 1. Print all frequent item sets found by FPGrowth.\n",
    " 1. Print all frequent item sets of length $2$ or higher with support of $0.2$ or higher.\n",
    "1. Answer the following question:\n",
    " 1. Both algorithms find and return exactly the same frequent itemsets (given same parameters of support and itemset length). What difference do you note in both of the algorithms?\n",
    " 1. There were more than $1000$ transactions. Why there are too few itemsets returned by the algorithms?\n",
    " "
   ]
  },
  {
   "cell_type": "markdown",
   "metadata": {},
   "source": [
    "# Apriori [10 marks]"
   ]
  },
  {
   "cell_type": "code",
   "execution_count": 3,
   "metadata": {},
   "outputs": [],
   "source": [
    "# Preprocess data\n",
    "te = TransactionEncoder()\n",
    "te_ary = te.fit(data).transform(data)\n",
    "df = pd.DataFrame(te_ary, columns=te.columns_)"
   ]
  },
  {
   "cell_type": "code",
   "execution_count": 4,
   "metadata": {},
   "outputs": [
    {
     "data": {
      "text/html": [
       "<div>\n",
       "<style scoped>\n",
       "    .dataframe tbody tr th:only-of-type {\n",
       "        vertical-align: middle;\n",
       "    }\n",
       "\n",
       "    .dataframe tbody tr th {\n",
       "        vertical-align: top;\n",
       "    }\n",
       "\n",
       "    .dataframe thead th {\n",
       "        text-align: right;\n",
       "    }\n",
       "</style>\n",
       "<table border=\"1\" class=\"dataframe\">\n",
       "  <thead>\n",
       "    <tr style=\"text-align: right;\">\n",
       "      <th></th>\n",
       "      <th>support</th>\n",
       "      <th>itemsets</th>\n",
       "    </tr>\n",
       "  </thead>\n",
       "  <tbody>\n",
       "    <tr>\n",
       "      <td>0</td>\n",
       "      <td>0.202113</td>\n",
       "      <td>(ASIAN)</td>\n",
       "    </tr>\n",
       "    <tr>\n",
       "      <td>1</td>\n",
       "      <td>0.300704</td>\n",
       "      <td>(BLACK)</td>\n",
       "    </tr>\n",
       "    <tr>\n",
       "      <td>2</td>\n",
       "      <td>0.152113</td>\n",
       "      <td>(Brooklyn)</td>\n",
       "    </tr>\n",
       "    <tr>\n",
       "      <td>3</td>\n",
       "      <td>0.164085</td>\n",
       "      <td>(HISPANIC)</td>\n",
       "    </tr>\n",
       "    <tr>\n",
       "      <td>4</td>\n",
       "      <td>0.671127</td>\n",
       "      <td>(MBE)</td>\n",
       "    </tr>\n",
       "    <tr>\n",
       "      <td>5</td>\n",
       "      <td>0.300000</td>\n",
       "      <td>(NON-MINORITY)</td>\n",
       "    </tr>\n",
       "    <tr>\n",
       "      <td>6</td>\n",
       "      <td>0.295070</td>\n",
       "      <td>(New York)</td>\n",
       "    </tr>\n",
       "    <tr>\n",
       "      <td>7</td>\n",
       "      <td>0.477465</td>\n",
       "      <td>(WBE)</td>\n",
       "    </tr>\n",
       "    <tr>\n",
       "      <td>8</td>\n",
       "      <td>0.200000</td>\n",
       "      <td>(ASIAN, MBE)</td>\n",
       "    </tr>\n",
       "    <tr>\n",
       "      <td>9</td>\n",
       "      <td>0.300704</td>\n",
       "      <td>(BLACK, MBE)</td>\n",
       "    </tr>\n",
       "    <tr>\n",
       "      <td>10</td>\n",
       "      <td>0.112676</td>\n",
       "      <td>(Brooklyn, MBE)</td>\n",
       "    </tr>\n",
       "    <tr>\n",
       "      <td>11</td>\n",
       "      <td>0.164085</td>\n",
       "      <td>(HISPANIC, MBE)</td>\n",
       "    </tr>\n",
       "    <tr>\n",
       "      <td>12</td>\n",
       "      <td>0.170423</td>\n",
       "      <td>(New York, MBE)</td>\n",
       "    </tr>\n",
       "    <tr>\n",
       "      <td>13</td>\n",
       "      <td>0.169014</td>\n",
       "      <td>(WBE, MBE)</td>\n",
       "    </tr>\n",
       "    <tr>\n",
       "      <td>14</td>\n",
       "      <td>0.118310</td>\n",
       "      <td>(NON-MINORITY, New York)</td>\n",
       "    </tr>\n",
       "    <tr>\n",
       "      <td>15</td>\n",
       "      <td>0.300000</td>\n",
       "      <td>(NON-MINORITY, WBE)</td>\n",
       "    </tr>\n",
       "    <tr>\n",
       "      <td>16</td>\n",
       "      <td>0.175352</td>\n",
       "      <td>(WBE, New York)</td>\n",
       "    </tr>\n",
       "    <tr>\n",
       "      <td>17</td>\n",
       "      <td>0.118310</td>\n",
       "      <td>(NON-MINORITY, New York, WBE)</td>\n",
       "    </tr>\n",
       "  </tbody>\n",
       "</table>\n",
       "</div>"
      ],
      "text/plain": [
       "     support                       itemsets\n",
       "0   0.202113                        (ASIAN)\n",
       "1   0.300704                        (BLACK)\n",
       "2   0.152113                     (Brooklyn)\n",
       "3   0.164085                     (HISPANIC)\n",
       "4   0.671127                          (MBE)\n",
       "5   0.300000                 (NON-MINORITY)\n",
       "6   0.295070                     (New York)\n",
       "7   0.477465                          (WBE)\n",
       "8   0.200000                   (ASIAN, MBE)\n",
       "9   0.300704                   (BLACK, MBE)\n",
       "10  0.112676                (Brooklyn, MBE)\n",
       "11  0.164085                (HISPANIC, MBE)\n",
       "12  0.170423                (New York, MBE)\n",
       "13  0.169014                     (WBE, MBE)\n",
       "14  0.118310       (NON-MINORITY, New York)\n",
       "15  0.300000            (NON-MINORITY, WBE)\n",
       "16  0.175352                (WBE, New York)\n",
       "17  0.118310  (NON-MINORITY, New York, WBE)"
      ]
     },
     "execution_count": 4,
     "metadata": {},
     "output_type": "execute_result"
    }
   ],
   "source": [
    "# Apriori\n",
    "# All Frequent Itemsets\n",
    "start = time.perf_counter()\n",
    "apriori(df, min_support=0.1, use_colnames=True)"
   ]
  },
  {
   "cell_type": "code",
   "execution_count": 5,
   "metadata": {},
   "outputs": [
    {
     "name": "stdout",
     "output_type": "stream",
     "text": [
      "Item sets with min. support 0.2 or greater and length 2 or greater\n"
     ]
    },
    {
     "data": {
      "text/html": [
       "<div>\n",
       "<style scoped>\n",
       "    .dataframe tbody tr th:only-of-type {\n",
       "        vertical-align: middle;\n",
       "    }\n",
       "\n",
       "    .dataframe tbody tr th {\n",
       "        vertical-align: top;\n",
       "    }\n",
       "\n",
       "    .dataframe thead th {\n",
       "        text-align: right;\n",
       "    }\n",
       "</style>\n",
       "<table border=\"1\" class=\"dataframe\">\n",
       "  <thead>\n",
       "    <tr style=\"text-align: right;\">\n",
       "      <th></th>\n",
       "      <th>support</th>\n",
       "      <th>itemsets</th>\n",
       "      <th>length</th>\n",
       "    </tr>\n",
       "  </thead>\n",
       "  <tbody>\n",
       "    <tr>\n",
       "      <td>6</td>\n",
       "      <td>0.200000</td>\n",
       "      <td>(ASIAN, MBE)</td>\n",
       "      <td>2</td>\n",
       "    </tr>\n",
       "    <tr>\n",
       "      <td>7</td>\n",
       "      <td>0.300704</td>\n",
       "      <td>(BLACK, MBE)</td>\n",
       "      <td>2</td>\n",
       "    </tr>\n",
       "    <tr>\n",
       "      <td>8</td>\n",
       "      <td>0.300000</td>\n",
       "      <td>(NON-MINORITY, WBE)</td>\n",
       "      <td>2</td>\n",
       "    </tr>\n",
       "  </tbody>\n",
       "</table>\n",
       "</div>"
      ],
      "text/plain": [
       "    support             itemsets  length\n",
       "6  0.200000         (ASIAN, MBE)       2\n",
       "7  0.300704         (BLACK, MBE)       2\n",
       "8  0.300000  (NON-MINORITY, WBE)       2"
      ]
     },
     "execution_count": 5,
     "metadata": {},
     "output_type": "execute_result"
    }
   ],
   "source": [
    "# Frequent itemsets of length 2 with support of 0.2\n",
    "print(\"Item sets with min. support 0.2 or greater and length 2 or greater\")\n",
    "frequent_itemsets = apriori(df, min_support=0.2, use_colnames=True)\n",
    "frequent_itemsets['length'] = frequent_itemsets['itemsets'].apply(lambda x: len(x))\n",
    "frequent_itemsets[(frequent_itemsets['length'] >= 2)]"
   ]
  },
  {
   "cell_type": "code",
   "execution_count": 6,
   "metadata": {},
   "outputs": [
    {
     "name": "stdout",
     "output_type": "stream",
     "text": [
      "Time taken by apriori: 0.19 seconds\n"
     ]
    }
   ],
   "source": [
    "# Time taken by apriori\n",
    "print(\"Time taken by apriori: {0:.2f} seconds\".format(time.perf_counter() - start))"
   ]
  },
  {
   "cell_type": "markdown",
   "metadata": {},
   "source": [
    "# FPGrowth [10 marks]"
   ]
  },
  {
   "cell_type": "code",
   "execution_count": 7,
   "metadata": {},
   "outputs": [
    {
     "data": {
      "text/html": [
       "<div>\n",
       "<style scoped>\n",
       "    .dataframe tbody tr th:only-of-type {\n",
       "        vertical-align: middle;\n",
       "    }\n",
       "\n",
       "    .dataframe tbody tr th {\n",
       "        vertical-align: top;\n",
       "    }\n",
       "\n",
       "    .dataframe thead th {\n",
       "        text-align: right;\n",
       "    }\n",
       "</style>\n",
       "<table border=\"1\" class=\"dataframe\">\n",
       "  <thead>\n",
       "    <tr style=\"text-align: right;\">\n",
       "      <th></th>\n",
       "      <th>support</th>\n",
       "      <th>itemsets</th>\n",
       "    </tr>\n",
       "  </thead>\n",
       "  <tbody>\n",
       "    <tr>\n",
       "      <td>0</td>\n",
       "      <td>0.671127</td>\n",
       "      <td>(MBE)</td>\n",
       "    </tr>\n",
       "    <tr>\n",
       "      <td>1</td>\n",
       "      <td>0.477465</td>\n",
       "      <td>(WBE)</td>\n",
       "    </tr>\n",
       "    <tr>\n",
       "      <td>2</td>\n",
       "      <td>0.300704</td>\n",
       "      <td>(BLACK)</td>\n",
       "    </tr>\n",
       "    <tr>\n",
       "      <td>3</td>\n",
       "      <td>0.152113</td>\n",
       "      <td>(Brooklyn)</td>\n",
       "    </tr>\n",
       "    <tr>\n",
       "      <td>4</td>\n",
       "      <td>0.202113</td>\n",
       "      <td>(ASIAN)</td>\n",
       "    </tr>\n",
       "    <tr>\n",
       "      <td>5</td>\n",
       "      <td>0.295070</td>\n",
       "      <td>(New York)</td>\n",
       "    </tr>\n",
       "    <tr>\n",
       "      <td>6</td>\n",
       "      <td>0.164085</td>\n",
       "      <td>(HISPANIC)</td>\n",
       "    </tr>\n",
       "    <tr>\n",
       "      <td>7</td>\n",
       "      <td>0.300000</td>\n",
       "      <td>(NON-MINORITY)</td>\n",
       "    </tr>\n",
       "    <tr>\n",
       "      <td>8</td>\n",
       "      <td>0.169014</td>\n",
       "      <td>(WBE, MBE)</td>\n",
       "    </tr>\n",
       "    <tr>\n",
       "      <td>9</td>\n",
       "      <td>0.300704</td>\n",
       "      <td>(BLACK, MBE)</td>\n",
       "    </tr>\n",
       "    <tr>\n",
       "      <td>10</td>\n",
       "      <td>0.112676</td>\n",
       "      <td>(Brooklyn, MBE)</td>\n",
       "    </tr>\n",
       "    <tr>\n",
       "      <td>11</td>\n",
       "      <td>0.200000</td>\n",
       "      <td>(ASIAN, MBE)</td>\n",
       "    </tr>\n",
       "    <tr>\n",
       "      <td>12</td>\n",
       "      <td>0.175352</td>\n",
       "      <td>(WBE, New York)</td>\n",
       "    </tr>\n",
       "    <tr>\n",
       "      <td>13</td>\n",
       "      <td>0.170423</td>\n",
       "      <td>(New York, MBE)</td>\n",
       "    </tr>\n",
       "    <tr>\n",
       "      <td>14</td>\n",
       "      <td>0.118310</td>\n",
       "      <td>(NON-MINORITY, New York)</td>\n",
       "    </tr>\n",
       "    <tr>\n",
       "      <td>15</td>\n",
       "      <td>0.118310</td>\n",
       "      <td>(NON-MINORITY, New York, WBE)</td>\n",
       "    </tr>\n",
       "    <tr>\n",
       "      <td>16</td>\n",
       "      <td>0.164085</td>\n",
       "      <td>(HISPANIC, MBE)</td>\n",
       "    </tr>\n",
       "    <tr>\n",
       "      <td>17</td>\n",
       "      <td>0.300000</td>\n",
       "      <td>(NON-MINORITY, WBE)</td>\n",
       "    </tr>\n",
       "  </tbody>\n",
       "</table>\n",
       "</div>"
      ],
      "text/plain": [
       "     support                       itemsets\n",
       "0   0.671127                          (MBE)\n",
       "1   0.477465                          (WBE)\n",
       "2   0.300704                        (BLACK)\n",
       "3   0.152113                     (Brooklyn)\n",
       "4   0.202113                        (ASIAN)\n",
       "5   0.295070                     (New York)\n",
       "6   0.164085                     (HISPANIC)\n",
       "7   0.300000                 (NON-MINORITY)\n",
       "8   0.169014                     (WBE, MBE)\n",
       "9   0.300704                   (BLACK, MBE)\n",
       "10  0.112676                (Brooklyn, MBE)\n",
       "11  0.200000                   (ASIAN, MBE)\n",
       "12  0.175352                (WBE, New York)\n",
       "13  0.170423                (New York, MBE)\n",
       "14  0.118310       (NON-MINORITY, New York)\n",
       "15  0.118310  (NON-MINORITY, New York, WBE)\n",
       "16  0.164085                (HISPANIC, MBE)\n",
       "17  0.300000            (NON-MINORITY, WBE)"
      ]
     },
     "execution_count": 7,
     "metadata": {},
     "output_type": "execute_result"
    }
   ],
   "source": [
    "# FPGrowth\n",
    "# All Frequent Itemsets\n",
    "start = time.perf_counter()\n",
    "fpgrowth(df, min_support=0.1, use_colnames=True)"
   ]
  },
  {
   "cell_type": "code",
   "execution_count": 8,
   "metadata": {},
   "outputs": [
    {
     "name": "stdout",
     "output_type": "stream",
     "text": [
      "Item sets with min. support 0.2 or greater and length 2 or greater\n"
     ]
    },
    {
     "data": {
      "text/html": [
       "<div>\n",
       "<style scoped>\n",
       "    .dataframe tbody tr th:only-of-type {\n",
       "        vertical-align: middle;\n",
       "    }\n",
       "\n",
       "    .dataframe tbody tr th {\n",
       "        vertical-align: top;\n",
       "    }\n",
       "\n",
       "    .dataframe thead th {\n",
       "        text-align: right;\n",
       "    }\n",
       "</style>\n",
       "<table border=\"1\" class=\"dataframe\">\n",
       "  <thead>\n",
       "    <tr style=\"text-align: right;\">\n",
       "      <th></th>\n",
       "      <th>support</th>\n",
       "      <th>itemsets</th>\n",
       "      <th>length</th>\n",
       "    </tr>\n",
       "  </thead>\n",
       "  <tbody>\n",
       "    <tr>\n",
       "      <td>6</td>\n",
       "      <td>0.300704</td>\n",
       "      <td>(BLACK, MBE)</td>\n",
       "      <td>2</td>\n",
       "    </tr>\n",
       "    <tr>\n",
       "      <td>7</td>\n",
       "      <td>0.200000</td>\n",
       "      <td>(ASIAN, MBE)</td>\n",
       "      <td>2</td>\n",
       "    </tr>\n",
       "    <tr>\n",
       "      <td>8</td>\n",
       "      <td>0.300000</td>\n",
       "      <td>(NON-MINORITY, WBE)</td>\n",
       "      <td>2</td>\n",
       "    </tr>\n",
       "  </tbody>\n",
       "</table>\n",
       "</div>"
      ],
      "text/plain": [
       "    support             itemsets  length\n",
       "6  0.300704         (BLACK, MBE)       2\n",
       "7  0.200000         (ASIAN, MBE)       2\n",
       "8  0.300000  (NON-MINORITY, WBE)       2"
      ]
     },
     "execution_count": 8,
     "metadata": {},
     "output_type": "execute_result"
    }
   ],
   "source": [
    "# Frequent itemsets of length 2 with support of 0.2\n",
    "print(\"Item sets with min. support 0.2 or greater and length 2 or greater\")\n",
    "frequent_itemsets = fpgrowth(df, min_support=0.2, use_colnames=True)\n",
    "frequent_itemsets['length'] = frequent_itemsets['itemsets'].apply(lambda x: len(x))\n",
    "frequent_itemsets[(frequent_itemsets['length'] >= 2)]"
   ]
  },
  {
   "cell_type": "code",
   "execution_count": 9,
   "metadata": {},
   "outputs": [
    {
     "name": "stdout",
     "output_type": "stream",
     "text": [
      "Time taken by FPgrowth: 0.19 seconds\n"
     ]
    }
   ],
   "source": [
    "# Time taken by FPgrowth\n",
    "print(\"Time taken by FPgrowth: {0:.2f} seconds\".format(time.perf_counter() - start))"
   ]
  },
  {
   "cell_type": "markdown",
   "metadata": {},
   "source": [
    "# Answer to the Questions [5 marks]"
   ]
  },
  {
   "cell_type": "markdown",
   "metadata": {},
   "source": [
    "3A. In this case, it can be seen that Apriori takes 0.15 seconds to run, whereas FPgrowth takes 0.18 seconds to run. Apriori performs multiple scans of the database, whereas FPgrowth scans the database only twice. This is why FPgrowth is more memory and space efficient. FPgrowth is a tree-based algorithm and uses depth-first search. On the other hand, Apriori is an array-based algorithm and uses breadth-first search."
   ]
  },
  {
   "cell_type": "markdown",
   "metadata": {},
   "source": [
    "3B. Only a few itemsets are returned because the number of original items (1000) is quite low by data mining standards. Moreover, the minimum support is 0.2 (in the second case), which means that only items that appear more than 200 (1000 * 0.2) would be treated as frequent items. The minimum support is relatively high for the total number of items."
   ]
  }
 ],
 "metadata": {
  "kernelspec": {
   "display_name": "Python 3",
   "language": "python",
   "name": "python3"
  },
  "language_info": {
   "codemirror_mode": {
    "name": "ipython",
    "version": 3
   },
   "file_extension": ".py",
   "mimetype": "text/x-python",
   "name": "python",
   "nbconvert_exporter": "python",
   "pygments_lexer": "ipython3",
   "version": "3.7.4"
  }
 },
 "nbformat": 4,
 "nbformat_minor": 2
}
